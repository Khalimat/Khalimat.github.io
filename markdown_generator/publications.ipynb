{
 "cells": [
  {
   "cell_type": "markdown",
   "metadata": {},
   "source": [
    "# Publications markdown generator for academicpages\n",
    "\n",
    "Takes a TSV of publications with metadata and converts them for use with [academicpages.github.io](academicpages.github.io). This is an interactive Jupyter notebook ([see more info here](http://jupyter-notebook-beginner-guide.readthedocs.io/en/latest/what_is_jupyter.html)). The core python code is also in `publications.py`. Run either from the `markdown_generator` folder after replacing `publications.tsv` with one containing your data.\n",
    "\n",
    "TODO: Make this work with BibTex and other databases of citations, rather than Stuart's non-standard TSV format and citation style.\n"
   ]
  },
  {
   "cell_type": "markdown",
   "metadata": {},
   "source": [
    "## Data format\n",
    "\n",
    "The TSV needs to have the following columns: pub_date, title, venue, excerpt, citation, site_url, and paper_url, with a header at the top. \n",
    "\n",
    "- `excerpt` and `paper_url` can be blank, but the others must have values. \n",
    "- `pub_date` must be formatted as YYYY-MM-DD.\n",
    "- `url_slug` will be the descriptive part of the .md file and the permalink URL for the page about the paper. The .md file will be `YYYY-MM-DD-[url_slug].md` and the permalink will be `https://[yourdomain]/publications/YYYY-MM-DD-[url_slug]`\n",
    "\n",
    "This is how the raw file looks (it doesn't look pretty, use a spreadsheet or other program to edit and create)."
   ]
  },
  {
   "cell_type": "code",
   "execution_count": 20,
   "metadata": {},
   "outputs": [
    {
     "name": "stdout",
     "output_type": "stream",
     "text": [
      "pub_date\ttitle\tvenue\texcerpt\tcitation\turl_slug\tpaper_url\r\n",
      "2017-11-29\tHow good are publicly available web services that predict bioactivity profiles for drug repurposing?\tSAR and QSAR in Environmental Research\tDrug repurposing provides a non-laborious and less expensive way for finding new human medicines. Computational assessment of bioactivity profiles shed light on the hidden pharmacological potential of the launched drugs. Currently, several freely available computational tools are available via the Internet, which predict multitarget profiles of drug-like compounds. They are based on chemical similarity assessment (ChemProt, SuperPred, SEA, SwissTargetPrediction and TargetHunter) or machine learning methods (ChemProt and PASS). To compare their performance, this study has created two evaluation sets, consisting of (1) 50 well-known repositioned drugs and (2) 12 drugs recently patented for new indications. In the first set, sensitivity values varied from 0.64 (TarPred) to 1.00 (PASS Online) for the initial indications and from 0.64 (TarPred) to 0.98 (PASS Online) for the repurposed indications. In the second set, sensitivity values varied from 0.08 (SuperPred) to 1.00 (PASS Online) for the initial indications and from 0.00 (SuperPred) to 1.00 (PASS Online) for the repurposed indications. Thus, this analysis demonstrated that the performance of machine learning methods surpassed those of chemical similarity assessments, particularly in the case of novel repurposed indications.  \t\"Murtazalieva, K. (2017). \"\"How good are publicly available web services that predict bioactivity profiles for drug repurposing?\"\" <i>SAR and QSAR in Environmental Research 1</i>. 1(1).\"\thttps://www.tandfonline.com/doi/abs/10.1080/1062936X.2017.1399448\thttp://academicpages.github.io/files/paper1.pdf\r\n",
      "2019-11-01\tTransPrise: a novel machine learning approach for eukaryotic promoter prediction\tPeerJ\tAs interest in genetic resequencing increases, so does the need for effective mathematical, computational, and statistical approaches. One of the difficult problems in genome annotation is determination of precise positions of transcription start sites. In this paper we present TransPrise—an efficient deep learning tool for prediction of positions of eukaryotic transcription start sites. Our pipeline consists of two parts: the binary classifier operates the first, and if a sequence is classified as TSS-containing the regression step follows, where the precise location of TSS is being identified. TransPrise offers significant improvement over existing promoter-prediction methods. To illustrate this, we compared predictions of TransPrise classification and regression models with the TSSPlant approach for the well annotated genome of Oryza sativa. Using a computer equipped with a graphics processing unit, the run time of TransPrise is 250 minutes on a genome of 374 Mb long. The Matthews correlation coefficient value for TransPrise is 0.79, more than two times larger than the 0.31 for TSSPlant classification models. This represents a high level of prediction accuracy. Additionally, the mean absolute error for the regression model is 29.19 nt, allowing for accurate prediction of TSS location. TransPrise was also tested in Homo sapiens, where mean absolute error of the regression model was 47.986 nt. We provide the full basis for the comparison and encourage users to freely access a set of our computational tools to facilitate and streamline their own analyses. The ready-to-use Docker image with all necessary packages, models, code as well as the source code of the TransPrise algorithm are available at (http://compubioverne.group/). The source code is ready to use and customizable to predict TSS in any eukaryotic organism.  \t\"Pachganov​, S*; Murtazalieva​, K*, et al. (2019). \"\"TransPrise: a novel machine learning approach for eukaryotic promoter prediction.\"\" <i>PeerJ </i>. 1(2).\"\thttps://peerj.com/articles/7990/\thttp://academicpages.github.io/files/paper2.pdf\r\n",
      "2021-04-10\tCFM: a database of experimentally validated protocols for chemical compound-based direct reprogramming and transdifferentiation\tF1000Research\tCell fate engineering technologies are critically important for basic and applied science, yet many protocols for direct cell conversions are still unstable, have a low yield and require improvement. There is an increasing need for a data aggregator containing a structured collection of protocols -  preprocessed, verified, and represented in a standardized manner to facilitate their comparison, and providing a platform for the researchers to evaluate and improve the protocols.   We developed CFM (cell fate mastering), a database of experimentally validated protocols for chemical compound-based direct reprogramming and direct cell conversion. The current version of CFM contains 169 distinct protocols, 113 types of cell conversions, and 158 small molecules capable of inducing cell conversion. CFM allows stem cell biologists to compare and choose the best protocol with high efficiency and reliability for their needs. The protocol representation contains PubChem CIDs and Mechanisms Of Action (MOA) for chemicals, protocol duration, media , and yield with a comment on a measurement strategy. Ratings of the protocols and feedback from the community will help to promote high-quality and reproducible protocols. We are committed to a long-term database maintenance strategy. The database is currently available at: https://cfm.mipt.ru\t\"Sizykh, A; Murtazalieva, K. (2021). \"\"CFM: a database of experimentally validated protocols for chemical compound-based direct reprogramming and transdifferentiation.\"\" <i>F1000Research 1</i>. 1(3).\"\thttps://f1000research.com/articles/10-295\thttp://academicpages.github.io/files/paper3.pdf\r\n"
     ]
    }
   ],
   "source": [
    "!cat publications.tsv"
   ]
  },
  {
   "cell_type": "markdown",
   "metadata": {},
   "source": [
    "## Import pandas\n",
    "\n",
    "We are using the very handy pandas library for dataframes."
   ]
  },
  {
   "cell_type": "code",
   "execution_count": 21,
   "metadata": {},
   "outputs": [],
   "source": [
    "import pandas as pd"
   ]
  },
  {
   "cell_type": "markdown",
   "metadata": {},
   "source": [
    "## Import TSV\n",
    "\n",
    "Pandas makes this easy with the read_csv function. We are using a TSV, so we specify the separator as a tab, or `\\t`.\n",
    "\n",
    "I found it important to put this data in a tab-separated values format, because there are a lot of commas in this kind of data and comma-separated values can get messed up. However, you can modify the import statement, as pandas also has read_excel(), read_json(), and others."
   ]
  },
  {
   "cell_type": "code",
   "execution_count": 22,
   "metadata": {},
   "outputs": [
    {
     "data": {
      "text/html": [
       "<div>\n",
       "<style scoped>\n",
       "    .dataframe tbody tr th:only-of-type {\n",
       "        vertical-align: middle;\n",
       "    }\n",
       "\n",
       "    .dataframe tbody tr th {\n",
       "        vertical-align: top;\n",
       "    }\n",
       "\n",
       "    .dataframe thead th {\n",
       "        text-align: right;\n",
       "    }\n",
       "</style>\n",
       "<table border=\"1\" class=\"dataframe\">\n",
       "  <thead>\n",
       "    <tr style=\"text-align: right;\">\n",
       "      <th></th>\n",
       "      <th>pub_date</th>\n",
       "      <th>title</th>\n",
       "      <th>venue</th>\n",
       "      <th>excerpt</th>\n",
       "      <th>citation</th>\n",
       "      <th>url_slug</th>\n",
       "      <th>paper_url</th>\n",
       "    </tr>\n",
       "  </thead>\n",
       "  <tbody>\n",
       "    <tr>\n",
       "      <th>0</th>\n",
       "      <td>2017-11-29</td>\n",
       "      <td>How good are publicly available web services t...</td>\n",
       "      <td>SAR and QSAR in Environmental Research</td>\n",
       "      <td>Drug repurposing provides a non-laborious and ...</td>\n",
       "      <td>Murtazalieva, K. (2017). \"How good are publicl...</td>\n",
       "      <td>https://www.tandfonline.com/doi/abs/10.1080/10...</td>\n",
       "      <td>http://academicpages.github.io/files/paper1.pdf</td>\n",
       "    </tr>\n",
       "    <tr>\n",
       "      <th>1</th>\n",
       "      <td>2019-11-01</td>\n",
       "      <td>TransPrise: a novel machine learning approach ...</td>\n",
       "      <td>PeerJ</td>\n",
       "      <td>As interest in genetic resequencing increases,...</td>\n",
       "      <td>Pachganov​, S*; Murtazalieva​, K*, et al. (201...</td>\n",
       "      <td>https://peerj.com/articles/7990/</td>\n",
       "      <td>http://academicpages.github.io/files/paper2.pdf</td>\n",
       "    </tr>\n",
       "    <tr>\n",
       "      <th>2</th>\n",
       "      <td>2021-04-10</td>\n",
       "      <td>CFM: a database of experimentally validated pr...</td>\n",
       "      <td>F1000Research</td>\n",
       "      <td>Cell fate engineering technologies are critica...</td>\n",
       "      <td>Sizykh, A; Murtazalieva, K. (2021). \"CFM: a da...</td>\n",
       "      <td>https://f1000research.com/articles/10-295</td>\n",
       "      <td>http://academicpages.github.io/files/paper3.pdf</td>\n",
       "    </tr>\n",
       "  </tbody>\n",
       "</table>\n",
       "</div>"
      ],
      "text/plain": [
       "     pub_date                                              title  \\\n",
       "0  2017-11-29  How good are publicly available web services t...   \n",
       "1  2019-11-01  TransPrise: a novel machine learning approach ...   \n",
       "2  2021-04-10  CFM: a database of experimentally validated pr...   \n",
       "\n",
       "                                    venue  \\\n",
       "0  SAR and QSAR in Environmental Research   \n",
       "1                                   PeerJ   \n",
       "2                           F1000Research   \n",
       "\n",
       "                                             excerpt  \\\n",
       "0  Drug repurposing provides a non-laborious and ...   \n",
       "1  As interest in genetic resequencing increases,...   \n",
       "2  Cell fate engineering technologies are critica...   \n",
       "\n",
       "                                            citation  \\\n",
       "0  Murtazalieva, K. (2017). \"How good are publicl...   \n",
       "1  Pachganov​, S*; Murtazalieva​, K*, et al. (201...   \n",
       "2  Sizykh, A; Murtazalieva, K. (2021). \"CFM: a da...   \n",
       "\n",
       "                                            url_slug  \\\n",
       "0  https://www.tandfonline.com/doi/abs/10.1080/10...   \n",
       "1                   https://peerj.com/articles/7990/   \n",
       "2          https://f1000research.com/articles/10-295   \n",
       "\n",
       "                                         paper_url  \n",
       "0  http://academicpages.github.io/files/paper1.pdf  \n",
       "1  http://academicpages.github.io/files/paper2.pdf  \n",
       "2  http://academicpages.github.io/files/paper3.pdf  "
      ]
     },
     "execution_count": 22,
     "metadata": {},
     "output_type": "execute_result"
    }
   ],
   "source": [
    "publications = pd.read_csv(\"publications.tsv\", sep=\"\\t\", header=0)\n",
    "publications\n"
   ]
  },
  {
   "cell_type": "markdown",
   "metadata": {},
   "source": [
    "## Escape special characters\n",
    "\n",
    "YAML is very picky about how it takes a valid string, so we are replacing single and double quotes (and ampersands) with their HTML encoded equivilents. This makes them look not so readable in raw format, but they are parsed and rendered nicely."
   ]
  },
  {
   "cell_type": "code",
   "execution_count": 23,
   "metadata": {},
   "outputs": [],
   "source": [
    "html_escape_table = {\n",
    "    \"&\": \"&amp;\",\n",
    "    '\"': \"&quot;\",\n",
    "    \"'\": \"&apos;\"\n",
    "    }\n",
    "\n",
    "def html_escape(text):\n",
    "    \"\"\"Produce entities within text.\"\"\"\n",
    "    return \"\".join(html_escape_table.get(c,c) for c in text)"
   ]
  },
  {
   "cell_type": "markdown",
   "metadata": {},
   "source": [
    "## Creating the markdown files\n",
    "\n",
    "This is where the heavy lifting is done. This loops through all the rows in the TSV dataframe, then starts to concatentate a big string (```md```) that contains the markdown for each type. It does the YAML metadata first, then does the description for the individual page."
   ]
  },
  {
   "cell_type": "code",
   "execution_count": 24,
   "metadata": {},
   "outputs": [],
   "source": [
    "import os\n",
    "for row, item in publications.iterrows():\n",
    "    \n",
    "    md_filename = str(item.pub_date) + \"-\" + item.url_slug + \".md\"\n",
    "    html_filename = str(item.pub_date) + \"-\" + item.url_slug\n",
    "    year = item.pub_date[:4]\n",
    "    \n",
    "    ## YAML variables\n",
    "    \n",
    "    md = \"---\\ntitle: \\\"\"   + item.title + '\"\\n'\n",
    "    \n",
    "    md += \"\"\"collection: publications\"\"\"\n",
    "    \n",
    "    md += \"\"\"\\npermalink: /publication/\"\"\" + html_filename\n",
    "    \n",
    "    if len(str(item.excerpt)) > 5:\n",
    "        md += \"\\nexcerpt: '\" + html_escape(item.excerpt) + \"'\"\n",
    "    \n",
    "    md += \"\\ndate: \" + str(item.pub_date) \n",
    "    \n",
    "    md += \"\\nvenue: '\" + html_escape(item.venue) + \"'\"\n",
    "    \n",
    "    if len(str(item.paper_url)) > 5:\n",
    "        md += \"\\npaperurl: '\" + item.paper_url + \"'\"\n",
    "    \n",
    "    md += \"\\ncitation: '\" + html_escape(item.citation) + \"'\"\n",
    "    \n",
    "    md += \"\\n---\"\n",
    "    \n",
    "    ## Markdown description for individual page\n",
    "        \n",
    "    if len(str(item.excerpt)) > 5:\n",
    "        md += \"\\n\" + html_escape(item.excerpt) + \"\\n\"\n",
    "    \n",
    "    if len(str(item.paper_url)) > 5:\n",
    "        md += \"\\n[Download paper here](\" + item.paper_url + \")\\n\" \n",
    "        \n",
    "    md += \"\\nRecommended citation: \" + item.citation\n",
    "    \n",
    "    md_filename = os.path.basename(md_filename)\n",
    "       \n",
    "    with open(\"../_publications/\" + md_filename, 'w') as f:\n",
    "        f.write(md)"
   ]
  },
  {
   "cell_type": "markdown",
   "metadata": {},
   "source": [
    "These files are in the publications directory, one directory below where we're working from."
   ]
  },
  {
   "cell_type": "code",
   "execution_count": 25,
   "metadata": {},
   "outputs": [
    {
     "name": "stdout",
     "output_type": "stream",
     "text": [
      "10-295.md\t\t\t    2019-11-01-paper-title-number-2.md\r\n",
      "1062936X.2017.1399448.md\t    2021-04-10-paper-title-number-3.md\r\n",
      "2017-10-01-paper-title-number-1.md\r\n"
     ]
    }
   ],
   "source": [
    "!ls ../_publications/"
   ]
  },
  {
   "cell_type": "code",
   "execution_count": 26,
   "metadata": {},
   "outputs": [
    {
     "name": "stdout",
     "output_type": "stream",
     "text": [
      "---\r\n",
      "title: \"Paper Title Number 3\"\r\n",
      "collection: publications\r\n",
      "permalink: /publication/2021-04-10-paper-title-number-3\r\n",
      "excerpt: 'This paper is about the number 3. The number 4 is left for future work.'\r\n",
      "date: 2021-04-10\r\n",
      "venue: 'Journal 1'\r\n",
      "paperurl: 'http://academicpages.github.io/files/paper3.pdf'\r\n",
      "citation: 'Your Name, You. (2015). &quot;Paper Title Number 3.&quot; <i>Journal 1</i>. 1(3).'\r\n",
      "---\r\n",
      "This paper is about the number 3. The number 4 is left for future work.\r\n",
      "\r\n",
      "[Download paper here](http://academicpages.github.io/files/paper3.pdf)\r\n",
      "\r\n",
      "Recommended citation: Your Name, You. (2015). \"Paper Title Number 3.\" <i>Journal 1</i>. 1(3)."
     ]
    }
   ],
   "source": [
    "!cat ../_publications/2021-04-10-paper-title-number-3.md"
   ]
  },
  {
   "cell_type": "code",
   "execution_count": null,
   "metadata": {
    "collapsed": true
   },
   "outputs": [],
   "source": []
  }
 ],
 "metadata": {
  "kernelspec": {
   "display_name": "Python 3",
   "language": "python",
   "name": "python3"
  },
  "language_info": {
   "codemirror_mode": {
    "name": "ipython",
    "version": 3
   },
   "file_extension": ".py",
   "mimetype": "text/x-python",
   "name": "python",
   "nbconvert_exporter": "python",
   "pygments_lexer": "ipython3",
   "version": "3.8.5"
  }
 },
 "nbformat": 4,
 "nbformat_minor": 1
}
